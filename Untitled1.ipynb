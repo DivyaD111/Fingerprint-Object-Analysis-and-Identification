{
 "cells": [
  {
   "cell_type": "code",
   "execution_count": 1,
   "id": "cb9a0bf7",
   "metadata": {},
   "outputs": [],
   "source": [
    "\n",
    "import matplotlib.pyplot as plt\n",
    "from enhance import image_enhance\n",
    "from skimage.morphology import skeletonize, thin"
   ]
  },
  {
   "cell_type": "code",
   "execution_count": null,
   "id": "53d91877",
   "metadata": {},
   "outputs": [],
   "source": []
  },
  {
   "cell_type": "code",
   "execution_count": null,
   "id": "4aa0a296",
   "metadata": {},
   "outputs": [],
   "source": []
  },
  {
   "cell_type": "code",
   "execution_count": 2,
   "id": "4851d00f",
   "metadata": {},
   "outputs": [],
   "source": [
    "def removedot(invertThin):\n",
    "    temp0 = numpy.array(invertThin[:])\n",
    "    temp0 = numpy.array(temp0)\n",
    "    temp1 = temp0/255\n",
    "    temp2 = numpy.array(temp1)\n",
    "    temp3 = numpy.array(temp2)\n",
    "\n",
    "    enhanced_img = numpy.array(temp0)\n",
    "    filter0 = numpy.zeros((10,10))\n",
    "    W,H = temp0.shape[:2]\n",
    "    filtersize = 6\n"
   ]
  },
  {
   "cell_type": "code",
   "execution_count": 5,
   "id": "f4d4bee5",
   "metadata": {},
   "outputs": [
    {
     "ename": "NameError",
     "evalue": "name 'W' is not defined",
     "output_type": "error",
     "traceback": [
      "\u001b[1;31m---------------------------------------------------------------------------\u001b[0m",
      "\u001b[1;31mNameError\u001b[0m                                 Traceback (most recent call last)",
      "\u001b[1;32m~\\AppData\\Local\\Temp/ipykernel_7240/4149639146.py\u001b[0m in \u001b[0;36m<module>\u001b[1;34m\u001b[0m\n\u001b[1;32m----> 1\u001b[1;33m \u001b[1;32mfor\u001b[0m \u001b[0mi\u001b[0m \u001b[1;32min\u001b[0m \u001b[0mrange\u001b[0m\u001b[1;33m(\u001b[0m\u001b[0mW\u001b[0m \u001b[1;33m-\u001b[0m \u001b[0mfiltersize\u001b[0m\u001b[1;33m)\u001b[0m\u001b[1;33m:\u001b[0m\u001b[1;33m\u001b[0m\u001b[1;33m\u001b[0m\u001b[0m\n\u001b[0m\u001b[0;32m      2\u001b[0m     \u001b[1;32mfor\u001b[0m \u001b[0mj\u001b[0m \u001b[1;32min\u001b[0m \u001b[0mrange\u001b[0m\u001b[1;33m(\u001b[0m\u001b[0mH\u001b[0m \u001b[1;33m-\u001b[0m \u001b[0mfiltersize\u001b[0m\u001b[1;33m)\u001b[0m\u001b[1;33m:\u001b[0m\u001b[1;33m\u001b[0m\u001b[1;33m\u001b[0m\u001b[0m\n\u001b[0;32m      3\u001b[0m         \u001b[0mfilter0\u001b[0m \u001b[1;33m=\u001b[0m \u001b[0mtemp1\u001b[0m\u001b[1;33m[\u001b[0m\u001b[0mi\u001b[0m\u001b[1;33m:\u001b[0m\u001b[0mi\u001b[0m \u001b[1;33m+\u001b[0m \u001b[0mfiltersize\u001b[0m\u001b[1;33m,\u001b[0m\u001b[0mj\u001b[0m\u001b[1;33m:\u001b[0m\u001b[0mj\u001b[0m \u001b[1;33m+\u001b[0m \u001b[0mfiltersize\u001b[0m\u001b[1;33m]\u001b[0m\u001b[1;33m\u001b[0m\u001b[1;33m\u001b[0m\u001b[0m\n\u001b[0;32m      4\u001b[0m \u001b[1;33m\u001b[0m\u001b[0m\n\u001b[0;32m      5\u001b[0m         \u001b[0mflag\u001b[0m \u001b[1;33m=\u001b[0m \u001b[1;36m0\u001b[0m\u001b[1;33m\u001b[0m\u001b[1;33m\u001b[0m\u001b[0m\n",
      "\u001b[1;31mNameError\u001b[0m: name 'W' is not defined"
     ]
    }
   ],
   "source": [
    "    for i in range(W - filtersize):\n",
    "        for j in range(H - filtersize):\n",
    "            filter0 = temp1[i:i + filtersize,j:j + filtersize]\n",
    "\n",
    "            flag = 0\n",
    "            if sum(filter0[:,0]) == 0:\n",
    "                flag +=1\n",
    "            if sum(filter0[:,filtersize - 1]) == 0:\n",
    "                flag +=1\n",
    "            if sum(filter0[0,:]) == 0:\n",
    "                flag +=1\n",
    "            if sum(filter0[filtersize - 1,:]) == 0:\n",
    "                flag +=1\n",
    "            if flag > 3:\n",
    "                temp2[i:i + filtersize, j:j + filtersize] = numpy.zeros((filtersize, filtersize))\n",
    "\n",
    "return temp2"
   ]
  },
  {
   "cell_type": "code",
   "execution_count": 3,
   "id": "d13ab1fc",
   "metadata": {},
   "outputs": [
    {
     "ename": "NameError",
     "evalue": "name 'W' is not defined",
     "output_type": "error",
     "traceback": [
      "\u001b[1;31m---------------------------------------------------------------------------\u001b[0m",
      "\u001b[1;31mNameError\u001b[0m                                 Traceback (most recent call last)",
      "\u001b[1;32m~\\AppData\\Local\\Temp/ipykernel_7240/2239799734.py\u001b[0m in \u001b[0;36m<module>\u001b[1;34m\u001b[0m\n\u001b[1;32m----> 1\u001b[1;33m \u001b[1;32mfor\u001b[0m \u001b[0mi\u001b[0m \u001b[1;32min\u001b[0m \u001b[0mrange\u001b[0m\u001b[1;33m(\u001b[0m\u001b[0mW\u001b[0m \u001b[1;33m-\u001b[0m \u001b[0mfiltersize\u001b[0m\u001b[1;33m)\u001b[0m\u001b[1;33m:\u001b[0m\u001b[1;33m\u001b[0m\u001b[1;33m\u001b[0m\u001b[0m\n\u001b[0m\u001b[0;32m      2\u001b[0m       \u001b[1;32mfor\u001b[0m \u001b[0mj\u001b[0m \u001b[1;32min\u001b[0m \u001b[0mrange\u001b[0m\u001b[1;33m(\u001b[0m\u001b[0mH\u001b[0m \u001b[1;33m-\u001b[0m \u001b[0mfiltersize\u001b[0m\u001b[1;33m)\u001b[0m\u001b[1;33m:\u001b[0m\u001b[1;33m\u001b[0m\u001b[1;33m\u001b[0m\u001b[0m\n\u001b[0;32m      3\u001b[0m           \u001b[0mfilter0\u001b[0m \u001b[1;33m=\u001b[0m \u001b[0mtemp1\u001b[0m\u001b[1;33m[\u001b[0m\u001b[0mi\u001b[0m\u001b[1;33m:\u001b[0m\u001b[0mi\u001b[0m \u001b[1;33m+\u001b[0m \u001b[0mfiltersize\u001b[0m\u001b[1;33m,\u001b[0m\u001b[0mj\u001b[0m\u001b[1;33m:\u001b[0m\u001b[0mj\u001b[0m \u001b[1;33m+\u001b[0m \u001b[0mfiltersize\u001b[0m\u001b[1;33m]\u001b[0m\u001b[1;33m\u001b[0m\u001b[1;33m\u001b[0m\u001b[0m\n\u001b[0;32m      4\u001b[0m \u001b[1;33m\u001b[0m\u001b[0m\n\u001b[0;32m      5\u001b[0m           \u001b[0mflag\u001b[0m \u001b[1;33m=\u001b[0m \u001b[1;36m0\u001b[0m\u001b[1;33m\u001b[0m\u001b[1;33m\u001b[0m\u001b[0m\n",
      "\u001b[1;31mNameError\u001b[0m: name 'W' is not defined"
     ]
    }
   ],
   "source": [
    "  for i in range(W - filtersize):\n",
    "        for j in range(H - filtersize):\n",
    "            filter0 = temp1[i:i + filtersize,j:j + filtersize]\n",
    "\n",
    "            flag = 0\n",
    "            if sum(filter0[:,0]) == 0:\n",
    "                flag +=1\n",
    "            if sum(filter0[:,filtersize - 1]) == 0:\n",
    "                flag +=1\n",
    "            if sum(filter0[0,:]) == 0:\n",
    "                flag +=1\n",
    "            if sum(filter0[filtersize - 1,:]) == 0:\n",
    "                flag +=1\n",
    "            if flag > 3:\n",
    "                temp2[i:i + filtersize, j:j + filtersize] = numpy.zeros((filtersize, filtersize))\n",
    "\n",
    "return temp2"
   ]
  },
  {
   "cell_type": "code",
   "execution_count": null,
   "id": "38bde755",
   "metadata": {},
   "outputs": [],
   "source": []
  }
 ],
 "metadata": {
  "kernelspec": {
   "display_name": "Python 3 (ipykernel)",
   "language": "python",
   "name": "python3"
  },
  "language_info": {
   "codemirror_mode": {
    "name": "ipython",
    "version": 3
   },
   "file_extension": ".py",
   "mimetype": "text/x-python",
   "name": "python",
   "nbconvert_exporter": "python",
   "pygments_lexer": "ipython3",
   "version": "3.9.7"
  }
 },
 "nbformat": 4,
 "nbformat_minor": 5
}
