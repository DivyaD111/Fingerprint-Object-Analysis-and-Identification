{
 "cells": [
  {
   "cell_type": "code",
   "execution_count": 1,
   "id": "e65a9fc4",
   "metadata": {},
   "outputs": [],
   "source": [
    "import cv2\n",
    "import os\n",
    "import sys\n",
    "import numpy\n",
    "import matplotlib.pyplot as plt\n",
    "from enhance import image_enhance\n",
    "from skimage.morphology import skeletonize, thin"
   ]
  },
  {
   "cell_type": "code",
   "execution_count": 5,
   "id": "208157fb",
   "metadata": {},
   "outputs": [
    {
     "name": "stdout",
     "output_type": "stream",
     "text": [
      "None\n"
     ]
    }
   ],
   "source": [
    "image_name = sys.argv[1]\n",
    "img1 = cv2.imread(r\"C:\\Users\\srico\\PycharmProjects\\FRCD\\venv\\FingerPrintBasedCrimeDetection/DataBase1/\" + image_name, cv2.IMREAD_GRAYSCALE)\n",
    "print(img1)"
   ]
  },
  {
   "cell_type": "code",
   "execution_count": null,
   "id": "54498e7f",
   "metadata": {},
   "outputs": [],
   "source": []
  }
 ],
 "metadata": {
  "kernelspec": {
   "display_name": "Python 3 (ipykernel)",
   "language": "python",
   "name": "python3"
  },
  "language_info": {
   "codemirror_mode": {
    "name": "ipython",
    "version": 3
   },
   "file_extension": ".py",
   "mimetype": "text/x-python",
   "name": "python",
   "nbconvert_exporter": "python",
   "pygments_lexer": "ipython3",
   "version": "3.9.7"
  }
 },
 "nbformat": 4,
 "nbformat_minor": 5
}
