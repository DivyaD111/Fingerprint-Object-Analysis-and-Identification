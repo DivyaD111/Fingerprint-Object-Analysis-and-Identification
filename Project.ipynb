{
 "cells": [
  {
   "cell_type": "code",
   "execution_count": 11,
   "metadata": {},
   "outputs": [],
   "source": [
    "import cv2\n",
    "import os\n",
    "import sys\n",
    "import numpy\n",
    "import matplotlib.pyplot as plt\n",
    "from enhance import image_enhance\n",
    "from skimage.morphology import skeletonize, thin"
   ]
  },
  {
   "cell_type": "code",
   "execution_count": 12,
   "metadata": {},
   "outputs": [
    {
     "ename": "FileNotFoundError",
     "evalue": "[WinError 2] The system cannot find the file specified: '/app/'",
     "output_type": "error",
     "traceback": [
      "\u001b[1;31m---------------------------------------------------------------------------\u001b[0m",
      "\u001b[1;31mFileNotFoundError\u001b[0m                         Traceback (most recent call last)",
      "\u001b[1;32m~\\AppData\\Local\\Temp/ipykernel_16320/2471266142.py\u001b[0m in \u001b[0;36m<module>\u001b[1;34m\u001b[0m\n\u001b[1;32m----> 1\u001b[1;33m \u001b[0mos\u001b[0m\u001b[1;33m.\u001b[0m\u001b[0mchdir\u001b[0m\u001b[1;33m(\u001b[0m\u001b[1;34m\"/app/\"\u001b[0m\u001b[1;33m)\u001b[0m\u001b[1;33m\u001b[0m\u001b[1;33m\u001b[0m\u001b[0m\n\u001b[0m",
      "\u001b[1;31mFileNotFoundError\u001b[0m: [WinError 2] The system cannot find the file specified: '/app/'"
     ]
    }
   ],
   "source": [
    "os.chdir(\"/app/\")"
   ]
  },
  {
   "cell_type": "code",
   "execution_count": 13,
   "metadata": {},
   "outputs": [],
   "source": [
    "def removedot(invertThin):\n",
    "    temp0 = numpy.array(invertThin[:])\n",
    "    temp0 = numpy.array(temp0)\n",
    "    temp1 = temp0/255\n",
    "    temp2 = numpy.array(temp1)\n",
    "    temp3 = numpy.array(temp2)\n",
    "\n",
    "    enhanced_img = numpy.array(temp0)\n",
    "    filter0 = numpy.zeros((10,10))\n",
    "    W,H = temp0.shape[:2]\n",
    "    filtersize = 6\n",
    "\n",
    "    for i in range(W - filtersize):\n",
    "        for j in range(H - filtersize):\n",
    "            filter0 = temp1[i:i + filtersize,j:j + filtersize]\n",
    "\n",
    "            flag = 0\n",
    "            if sum(filter0[:,0]) == 0:\n",
    "                flag +=1\n",
    "            if sum(filter0[:,filtersize - 1]) == 0:\n",
    "                flag +=1\n",
    "            if sum(filter0[0,:]) == 0:\n",
    "                flag +=1\n",
    "            if sum(filter0[filtersize - 1,:]) == 0:\n",
    "                flag +=1\n",
    "            if flag > 3:\n",
    "                temp2[i:i + filtersize, j:j + filtersize] = numpy.zeros((filtersize, filtersize))\n",
    "\n",
    "    return temp2"
   ]
  },
  {
   "cell_type": "code",
   "execution_count": 14,
   "metadata": {},
   "outputs": [],
   "source": [
    "def get_descriptors(img):\n",
    "\tclahe = cv2.createCLAHE(clipLimit=2.0, tileGridSize=(8,8))\n",
    "\timg = clahe.apply(img)\n",
    "\timg = image_enhance.image_enhance(img)\n",
    "\timg = numpy.array(img, dtype=numpy.uint8)\n",
    "\t# Threshold\n",
    "\tret, img = cv2.threshold(img, 127, 255, cv2.THRESH_BINARY_INV | cv2.THRESH_OTSU)\n",
    "\t# Normalize to 0 and 1 range\n",
    "\timg[img == 255] = 1\n",
    "\n",
    "\t#Thinning\n",
    "\tskeleton = skeletonize(img)\n",
    "\tskeleton = numpy.array(skeleton, dtype=numpy.uint8)\n",
    "\tskeleton = removedot(skeleton)\n",
    "\t# Harris corners\n",
    "\tharris_corners = cv2.cornerHarris(img, 3, 3, 0.04)\n",
    "\tharris_normalized = cv2.normalize(harris_corners, 0, 255, norm_type=cv2.NORM_MINMAX, dtype=cv2.CV_32FC1)\n",
    "\tthreshold_harris = 125\n",
    "\t# Extract keypoints\n",
    "\tkeypoints = []\n",
    "\tfor x in range(0, harris_normalized.shape[0]):\n",
    "\t\tfor y in range(0, harris_normalized.shape[1]):\n",
    "\t\t\tif harris_normalized[x][y] > threshold_harris:\n",
    "\t\t\t\tkeypoints.append(cv2.KeyPoint(y, x, 1))\n",
    "\t# Define descriptor\n",
    "\torb = cv2.ORB_create()\n",
    "\t# Compute descriptors\n",
    "\t_, des = orb.compute(img, keypoints)\n",
    "\treturn (keypoints, des);"
   ]
  },
  {
   "cell_type": "code",
   "execution_count": 15,
   "metadata": {},
   "outputs": [],
   "source": [
    "def main():\n",
    "\timage_name = sys.argv[1]\n",
    "\timg1 = cv2.imread(r\"C:\\Users\\srico\\PycharmProjects\\FRCD\\venv\\FingerPrintBasedCrimeDetection/DataBase1/\" + image_name, cv2.IMREAD_GRAYSCALE)\n",
    "\tkp1, des1 = get_descriptors(img1)\n",
    "\n",
    "\timage_name = sys.argv[2]\n",
    "\timg2 = cv2.imread(r\"C:\\Users\\srico\\PycharmProjects\\FRCD\\venv\\FingerPrintBasedCrimeDetection/DataBase1/\" + image_name, cv2.IMREAD_GRAYSCALE)\n",
    "\tkp2, des2 = get_descriptors(img2)\n",
    "\n",
    "\t# Matching between descriptors\n",
    "\tbf = cv2.BFMatcher(cv2.NORM_HAMMING, crossCheck=True)\n",
    "\tmatches = sorted(bf.match(des1, des2), key= lambda match:match.distance)\n",
    "\t# Plot keypoints\n",
    "\timg4 = cv2.drawKeypoints(img1, kp1, outImage=None)\n",
    "\timg5 = cv2.drawKeypoints(img2, kp2, outImage=None)\n",
    "\tf, axarr = plt.subplots(1,2)\n",
    "\taxarr[0].imshow(img4)\n",
    "\taxarr[1].imshow(img5)\n",
    "\tplt.show()\n",
    "\t# Plot matches\n",
    "\timg3 = cv2.drawMatches(img1, kp1, img2, kp2, matches, flags=2, outImg=None)\n",
    "\tplt.imshow(img3)\n",
    "\tplt.show()\n",
    "\n",
    "\t# Calculate score\n",
    "\tscore = 0;\n",
    "\tfor match in matches:\n",
    "\t\tscore += match.distance\n",
    "\tscore_threshold = 33\n",
    "\tif score/len(matches) < score_threshold:\n",
    "\t\tprint(\"Fingerprint matches At the Crime Location\")\n",
    "\telse:\n",
    "\t\tprint(\"Fingerprint does not match At the Crime Location\")"
   ]
  },
  {
   "cell_type": "code",
   "execution_count": 17,
   "metadata": {},
   "outputs": [
    {
     "ename": "AttributeError",
     "evalue": "'NoneType' object has no attribute 'shape'",
     "output_type": "error",
     "traceback": [
      "\u001b[1;31m---------------------------------------------------------------------------\u001b[0m",
      "\u001b[1;31mAttributeError\u001b[0m                            Traceback (most recent call last)",
      "\u001b[1;32m~\\AppData\\Local\\Temp/ipykernel_16320/2889637014.py\u001b[0m in \u001b[0;36m<module>\u001b[1;34m\u001b[0m\n\u001b[0;32m      1\u001b[0m \u001b[1;32mif\u001b[0m \u001b[0m__name__\u001b[0m \u001b[1;33m==\u001b[0m \u001b[1;34m\"__main__\"\u001b[0m\u001b[1;33m:\u001b[0m\u001b[1;33m\u001b[0m\u001b[1;33m\u001b[0m\u001b[0m\n\u001b[0;32m      2\u001b[0m         \u001b[1;32mtry\u001b[0m\u001b[1;33m:\u001b[0m\u001b[1;33m\u001b[0m\u001b[1;33m\u001b[0m\u001b[0m\n\u001b[1;32m----> 3\u001b[1;33m                 \u001b[0mmain\u001b[0m\u001b[1;33m(\u001b[0m\u001b[1;33m)\u001b[0m\u001b[1;33m\u001b[0m\u001b[1;33m\u001b[0m\u001b[0m\n\u001b[0m\u001b[0;32m      4\u001b[0m         \u001b[1;32mexcept\u001b[0m\u001b[1;33m:\u001b[0m\u001b[1;33m\u001b[0m\u001b[1;33m\u001b[0m\u001b[0m\n\u001b[0;32m      5\u001b[0m                 \u001b[1;32mraise\u001b[0m\u001b[1;33m\u001b[0m\u001b[1;33m\u001b[0m\u001b[0m\n",
      "\u001b[1;32m~\\AppData\\Local\\Temp/ipykernel_16320/4136908576.py\u001b[0m in \u001b[0;36mmain\u001b[1;34m()\u001b[0m\n\u001b[0;32m      2\u001b[0m         \u001b[0mimage_name\u001b[0m \u001b[1;33m=\u001b[0m \u001b[0msys\u001b[0m\u001b[1;33m.\u001b[0m\u001b[0margv\u001b[0m\u001b[1;33m[\u001b[0m\u001b[1;36m1\u001b[0m\u001b[1;33m]\u001b[0m\u001b[1;33m\u001b[0m\u001b[1;33m\u001b[0m\u001b[0m\n\u001b[0;32m      3\u001b[0m         \u001b[0mimg1\u001b[0m \u001b[1;33m=\u001b[0m \u001b[0mcv2\u001b[0m\u001b[1;33m.\u001b[0m\u001b[0mimread\u001b[0m\u001b[1;33m(\u001b[0m\u001b[1;34mr\"C:\\Users\\srico\\PycharmProjects\\FRCD\\venv\\FingerPrintBasedCrimeDetection/DataBase1/\"\u001b[0m \u001b[1;33m+\u001b[0m \u001b[0mimage_name\u001b[0m\u001b[1;33m,\u001b[0m \u001b[0mcv2\u001b[0m\u001b[1;33m.\u001b[0m\u001b[0mIMREAD_GRAYSCALE\u001b[0m\u001b[1;33m)\u001b[0m\u001b[1;33m\u001b[0m\u001b[1;33m\u001b[0m\u001b[0m\n\u001b[1;32m----> 4\u001b[1;33m         \u001b[0mkp1\u001b[0m\u001b[1;33m,\u001b[0m \u001b[0mdes1\u001b[0m \u001b[1;33m=\u001b[0m \u001b[0mget_descriptors\u001b[0m\u001b[1;33m(\u001b[0m\u001b[0mimg1\u001b[0m\u001b[1;33m)\u001b[0m\u001b[1;33m\u001b[0m\u001b[1;33m\u001b[0m\u001b[0m\n\u001b[0m\u001b[0;32m      5\u001b[0m \u001b[1;33m\u001b[0m\u001b[0m\n\u001b[0;32m      6\u001b[0m         \u001b[0mimage_name\u001b[0m \u001b[1;33m=\u001b[0m \u001b[0msys\u001b[0m\u001b[1;33m.\u001b[0m\u001b[0margv\u001b[0m\u001b[1;33m[\u001b[0m\u001b[1;36m2\u001b[0m\u001b[1;33m]\u001b[0m\u001b[1;33m\u001b[0m\u001b[1;33m\u001b[0m\u001b[0m\n",
      "\u001b[1;32m~\\AppData\\Local\\Temp/ipykernel_16320/766341586.py\u001b[0m in \u001b[0;36mget_descriptors\u001b[1;34m(img)\u001b[0m\n\u001b[0;32m      2\u001b[0m         \u001b[0mclahe\u001b[0m \u001b[1;33m=\u001b[0m \u001b[0mcv2\u001b[0m\u001b[1;33m.\u001b[0m\u001b[0mcreateCLAHE\u001b[0m\u001b[1;33m(\u001b[0m\u001b[0mclipLimit\u001b[0m\u001b[1;33m=\u001b[0m\u001b[1;36m2.0\u001b[0m\u001b[1;33m,\u001b[0m \u001b[0mtileGridSize\u001b[0m\u001b[1;33m=\u001b[0m\u001b[1;33m(\u001b[0m\u001b[1;36m8\u001b[0m\u001b[1;33m,\u001b[0m\u001b[1;36m8\u001b[0m\u001b[1;33m)\u001b[0m\u001b[1;33m)\u001b[0m\u001b[1;33m\u001b[0m\u001b[1;33m\u001b[0m\u001b[0m\n\u001b[0;32m      3\u001b[0m         \u001b[0mimg\u001b[0m \u001b[1;33m=\u001b[0m \u001b[0mclahe\u001b[0m\u001b[1;33m.\u001b[0m\u001b[0mapply\u001b[0m\u001b[1;33m(\u001b[0m\u001b[0mimg\u001b[0m\u001b[1;33m)\u001b[0m\u001b[1;33m\u001b[0m\u001b[1;33m\u001b[0m\u001b[0m\n\u001b[1;32m----> 4\u001b[1;33m         \u001b[0mimg\u001b[0m \u001b[1;33m=\u001b[0m \u001b[0mimage_enhance\u001b[0m\u001b[1;33m.\u001b[0m\u001b[0mimage_enhance\u001b[0m\u001b[1;33m(\u001b[0m\u001b[0mimg\u001b[0m\u001b[1;33m)\u001b[0m\u001b[1;33m\u001b[0m\u001b[1;33m\u001b[0m\u001b[0m\n\u001b[0m\u001b[0;32m      5\u001b[0m         \u001b[0mimg\u001b[0m \u001b[1;33m=\u001b[0m \u001b[0mnumpy\u001b[0m\u001b[1;33m.\u001b[0m\u001b[0marray\u001b[0m\u001b[1;33m(\u001b[0m\u001b[0mimg\u001b[0m\u001b[1;33m,\u001b[0m \u001b[0mdtype\u001b[0m\u001b[1;33m=\u001b[0m\u001b[0mnumpy\u001b[0m\u001b[1;33m.\u001b[0m\u001b[0muint8\u001b[0m\u001b[1;33m)\u001b[0m\u001b[1;33m\u001b[0m\u001b[1;33m\u001b[0m\u001b[0m\n\u001b[0;32m      6\u001b[0m         \u001b[1;31m# Threshold\u001b[0m\u001b[1;33m\u001b[0m\u001b[1;33m\u001b[0m\u001b[0m\n",
      "\u001b[1;32m~\\Downloads\\FingerPrintBasedCrimeDetection\\FingerPrintBasedCrimeDetection\\enhance\\image_enhance.py\u001b[0m in \u001b[0;36mimage_enhance\u001b[1;34m(img)\u001b[0m\n\u001b[0;32m     13\u001b[0m     \u001b[0mblksze\u001b[0m \u001b[1;33m=\u001b[0m \u001b[1;36m16\u001b[0m\u001b[1;33m;\u001b[0m\u001b[1;33m\u001b[0m\u001b[1;33m\u001b[0m\u001b[0m\n\u001b[0;32m     14\u001b[0m     \u001b[0mthresh\u001b[0m \u001b[1;33m=\u001b[0m \u001b[1;36m0.1\u001b[0m\u001b[1;33m;\u001b[0m\u001b[1;33m\u001b[0m\u001b[1;33m\u001b[0m\u001b[0m\n\u001b[1;32m---> 15\u001b[1;33m     \u001b[0mnormim\u001b[0m\u001b[1;33m,\u001b[0m\u001b[0mmask\u001b[0m \u001b[1;33m=\u001b[0m \u001b[0mridge_segment\u001b[0m\u001b[1;33m(\u001b[0m\u001b[0mimg\u001b[0m\u001b[1;33m,\u001b[0m\u001b[0mblksze\u001b[0m\u001b[1;33m,\u001b[0m\u001b[0mthresh\u001b[0m\u001b[1;33m)\u001b[0m\u001b[1;33m;\u001b[0m             \u001b[1;31m# normalise the image and find a ROI\u001b[0m\u001b[1;33m\u001b[0m\u001b[1;33m\u001b[0m\u001b[0m\n\u001b[0m\u001b[0;32m     16\u001b[0m \u001b[1;33m\u001b[0m\u001b[0m\n\u001b[0;32m     17\u001b[0m \u001b[1;33m\u001b[0m\u001b[0m\n",
      "\u001b[1;32m~\\Downloads\\FingerPrintBasedCrimeDetection\\FingerPrintBasedCrimeDetection\\enhance\\ridge_segment.py\u001b[0m in \u001b[0;36mridge_segment\u001b[1;34m(im, blksze, thresh)\u001b[0m\n\u001b[0;32m     59\u001b[0m \u001b[1;32mdef\u001b[0m \u001b[0mridge_segment\u001b[0m\u001b[1;33m(\u001b[0m\u001b[0mim\u001b[0m\u001b[1;33m,\u001b[0m\u001b[0mblksze\u001b[0m\u001b[1;33m,\u001b[0m\u001b[0mthresh\u001b[0m\u001b[1;33m)\u001b[0m\u001b[1;33m:\u001b[0m\u001b[1;33m\u001b[0m\u001b[1;33m\u001b[0m\u001b[0m\n\u001b[0;32m     60\u001b[0m \u001b[1;33m\u001b[0m\u001b[0m\n\u001b[1;32m---> 61\u001b[1;33m     \u001b[0mrows\u001b[0m\u001b[1;33m,\u001b[0m\u001b[0mcols\u001b[0m \u001b[1;33m=\u001b[0m \u001b[0mim\u001b[0m\u001b[1;33m.\u001b[0m\u001b[0mshape\u001b[0m\u001b[1;33m;\u001b[0m\u001b[1;33m\u001b[0m\u001b[1;33m\u001b[0m\u001b[0m\n\u001b[0m\u001b[0;32m     62\u001b[0m \u001b[1;33m\u001b[0m\u001b[0m\n\u001b[0;32m     63\u001b[0m     \u001b[0mim\u001b[0m \u001b[1;33m=\u001b[0m \u001b[0mnormalise\u001b[0m\u001b[1;33m(\u001b[0m\u001b[0mim\u001b[0m\u001b[1;33m,\u001b[0m\u001b[1;36m0\u001b[0m\u001b[1;33m,\u001b[0m\u001b[1;36m1\u001b[0m\u001b[1;33m)\u001b[0m\u001b[1;33m;\u001b[0m    \u001b[1;31m# normalise to get zero mean and unit standard deviation\u001b[0m\u001b[1;33m\u001b[0m\u001b[1;33m\u001b[0m\u001b[0m\n",
      "\u001b[1;31mAttributeError\u001b[0m: 'NoneType' object has no attribute 'shape'"
     ]
    }
   ],
   "source": [
    "if __name__ == \"__main__\":\n",
    "\ttry:\n",
    "\t\tmain()\n",
    "\texcept:\n",
    "\t\traise\n"
   ]
  },
  {
   "cell_type": "code",
   "execution_count": null,
   "metadata": {},
   "outputs": [],
   "source": []
  },
  {
   "cell_type": "code",
   "execution_count": null,
   "metadata": {},
   "outputs": [],
   "source": []
  }
 ],
 "metadata": {
  "kernelspec": {
   "display_name": "Python 3 (ipykernel)",
   "language": "python",
   "name": "python3"
  },
  "language_info": {
   "codemirror_mode": {
    "name": "ipython",
    "version": 3
   },
   "file_extension": ".py",
   "mimetype": "text/x-python",
   "name": "python",
   "nbconvert_exporter": "python",
   "pygments_lexer": "ipython3",
   "version": "3.9.7"
  }
 },
 "nbformat": 4,
 "nbformat_minor": 4
}
